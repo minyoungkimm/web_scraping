{
 "cells": [
  {
   "cell_type": "code",
   "execution_count": 3,
   "metadata": {},
   "outputs": [
    {
     "name": "stdout",
     "output_type": "stream",
     "text": [
      "키워드 : 자동세차\n",
      "45\n"
     ]
    }
   ],
   "source": [
    "from selenium import webdriver\n",
    "from selenium.webdriver.common.keys import Keys\n",
    "\n",
    "from selenium.webdriver.support.ui import WebDriverWait\n",
    "from selenium.webdriver.support import expected_conditions as EC\n",
    "from selenium.webdriver.common.by import By\n",
    "\n",
    "import time\n",
    "import re\n",
    "import pandas as pd\n",
    "\n",
    "char = re.compile('[^ a-zA-Zㄱ-ㅣ가-힣!?#.]') #정규식 a-z,A-Z,ㄱ-ㅣ,가-힣,!?#.은 살림\n",
    "browser = webdriver.Chrome('c:/py_temp/chromedriver/chromedriver')\n",
    "wait = WebDriverWait(browser, 20)\n",
    "\n",
    "keyword = input('키워드 : ')\n",
    "num_of_page_scroll = 7\n",
    "\n",
    "url = 'https://www.instagram.com/explore/tags/' +keyword+ '/?hl=ko'\n",
    "\n",
    "browser.get(url)\n",
    "time.sleep(2)\n",
    "\n",
    "body = browser.find_element_by_tag_name('body')\n",
    "\n",
    "for i in range(num_of_page_scroll):\n",
    "    time.sleep(0.3)\n",
    "    body.send_keys(Keys.PAGE_DOWN)\n",
    "\n",
    "post = browser.find_elements_by_class_name('v1Nh3')\n",
    "print(len(post))\n",
    "\n",
    "arr_href = []\n",
    "for item in post:\n",
    "    href_element = item.find_element_by_css_selector('a')\n",
    "    href_value = href_element.get_attribute('href')\n",
    "    arr_href.append(href_value)\n",
    "arr_href = list(set(arr_href))   #set list에서 중복 제거\n",
    "insta_df = pd.DataFrame(columns=['Image Src', 'Heart', 'Content'])\n",
    "\n",
    "for url in arr_href:\n",
    "    browser.get(url)\n",
    "    time.sleep(3)\n",
    "    try:\n",
    "        img_tag = browser.find_element_by_class_name('KL4Bh')\n",
    "        img = img_tag.find_element_by_css_selector('img')\n",
    "        src_set = img.get_attribute('srcset')\n",
    "        img_href = src_set.split(',')[-1].split(\" \")[0]\n",
    "    except:\n",
    "        img_href = \"\"\n",
    "    wait.until(EC.presence_of_element_located((By.CLASS_NAME, \"C4VMK\")))\n",
    "    hash_text_area = browser.find_elements_by_class_name('C4VMK')\n",
    "    hash_text = \"\"\n",
    "    for i in hash_text_area:\n",
    "        hash_text += i.find_element_by_css_selector('span').text # = hash_text + i.find_element_by_css_selector('span').text\n",
    "    hash_text = char.sub('', hash_text)\n",
    "    heart = \"\"\n",
    "    try:\n",
    "        heart = browser.find_element_by_class_name('Nm9Fw').text\n",
    "        heart = heart.split(\" \")[-1][:-1].replace(',','')\n",
    "    except:\n",
    "        heart = \"0\"\n",
    "    insta_df = insta_df.append({\"Image Src\" : img_href, \"Heart\" : heart, \"Content\" : hash_text}, ignore_index = True)\n",
    "    \n",
    "insta_df.to_csv('c:/py_temp/instagram_crawling.txt', mode = 'w', encoding = 'euc-kr')\n",
    "    \n",
    "    \n",
    "    "
   ]
  },
  {
   "cell_type": "code",
   "execution_count": 4,
   "metadata": {},
   "outputs": [],
   "source": [
    "url = 'https://www.instagram.com/p/BzZ2RARh4yv/'\n",
    "browser.get(url)\n",
    "time.sleep(4)\n",
    "img_tag = browser.find_element_by_class_name('KL4Bh')\n",
    "img = img_tag.find_element_by_css_selector('img')\n",
    "src_set = img.get_attribute('srcset')\n",
    "img_href = src_set.split(',')[-1].split(\" \")[0]\n",
    "hash_text_area = browser.find_elements_by_class_name('C4VMK')\n",
    "hash_text = \"\"\n",
    "for i in hash_text_area:\n",
    "    hash_text += i.find_element_by_css_selector('span').text # = hash_text + i.find_element_by_css_selector('span').text\n",
    "heart = browser.find_element_by_class_name('Nm9Fw').text\n",
    "heart = heart.split(\" \")[-1][:-1].replace(',','')\n",
    "#print(heart)"
   ]
  },
  {
   "cell_type": "code",
   "execution_count": null,
   "metadata": {},
   "outputs": [],
   "source": [
    "temp = src_set.split(',')[-1].split(\" \")[0] #split(',') - ,기준으로 구분, .split(\" \") - 공백 기준으로 구분\n",
    "temp"
   ]
  },
  {
   "cell_type": "code",
   "execution_count": null,
   "metadata": {},
   "outputs": [],
   "source": [
    "temp = heart.split(\" \")[-1][:-1].replace(',','') # 4,716의 ,를 인식 못해서 replace로 제거\n",
    "temp"
   ]
  },
  {
   "cell_type": "code",
   "execution_count": null,
   "metadata": {},
   "outputs": [],
   "source": []
  }
 ],
 "metadata": {
  "kernelspec": {
   "display_name": "Python 3",
   "language": "python",
   "name": "python3"
  },
  "language_info": {
   "codemirror_mode": {
    "name": "ipython",
    "version": 3
   },
   "file_extension": ".py",
   "mimetype": "text/x-python",
   "name": "python",
   "nbconvert_exporter": "python",
   "pygments_lexer": "ipython3",
   "version": "3.8.3"
  }
 },
 "nbformat": 4,
 "nbformat_minor": 4
}
